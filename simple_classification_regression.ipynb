{
 "cells": [
  {
   "cell_type": "markdown",
   "metadata": {},
   "source": [
    "# Simple classification and regression tutorial\n",
    "\n",
    "In this section we will cover the basic API of PyTorch network models and use it to create first a simple logistic regression trained on simulated data. Following this we will train an multi-layer perceptron (MLP) followed by a simple convolutional neural network to perform classification of the MNIST dataset."
   ]
  },
  {
   "cell_type": "markdown",
   "metadata": {},
   "source": [
    "First load basic modules\n"
   ]
  },
  {
   "cell_type": "code",
   "execution_count": 1,
   "metadata": {},
   "outputs": [],
   "source": [
    "import torch\n",
    "import torch.nn as nn\n",
    "import torch.nn.functional as F #contains some useful functions like activation functions & convolution operations you can use\n",
    "\n",
    "device = torch.device(\"cuda: 0\" if torch.cuda.is_available() else \"cpu\")\n"
   ]
  },
  {
   "cell_type": "markdown",
   "metadata": {},
   "source": [
    "## GPU or CPU?\n",
    "\n",
    "Before we can even begin, we need to know whether we are using a GPU or a CPU. If its the former, the model and all the data should be uploaded into the GPU. Fortunately, we can define a variable \"device\" that will either be cpu or gpu depending on availability, and load the data automatically on the correct 'device'."
   ]
  },
  {
   "cell_type": "code",
   "execution_count": 2,
   "metadata": {},
   "outputs": [
    {
     "name": "stdout",
     "output_type": "stream",
     "text": [
      "cpu\n"
     ]
    }
   ],
   "source": [
    "if torch.cuda.is_available():\n",
    "    device = torch.device('cuda')\n",
    "else:\n",
    "    device = torch.device('cpu')\n",
    "    \n",
    "print(device) "
   ]
  },
  {
   "cell_type": "markdown",
   "metadata": {},
   "source": [
    "We see that if cuda is available our model will be run on a GPU, otherwise the model will need to run on CPU."
   ]
  },
  {
   "cell_type": "markdown",
   "metadata": {},
   "source": [
    "## Defining a network class\n",
    "\n",
    "We can define a class network in pytorch, in two steps, by inheriting `nn.Module` :\n",
    "\n",
    "1. The first part is creation of the constructor `__init__` in which you must define all parameters and layers that you will use\n",
    "2. The second part is to define the forward pass through the function `forward(self,x)` which takes in input and calculates the output.\n",
    "\n",
    "Note, backpropagation is automatically defined by autograd and this does not need to be explicitely coded up.\n",
    "Once complete, you can then create an instance of the class using `net = Model()`. \n",
    "\n",
    "Example:"
   ]
  },
  {
   "cell_type": "code",
   "execution_count": 3,
   "metadata": {},
   "outputs": [],
   "source": [
    "class Model(nn.Module):\n",
    "    def __init__(self):\n",
    "        super(Model, self).__init__()\n",
    "        self.conv1 = nn.Conv2d(in_channels=3, out_channels=64, kernel_size=5)\n",
    "        self.bn1 = nn.BatchNorm2d(64)\n",
    "        \n",
    "        \n",
    "        self.conv2 = nn.Conv2d(in_channels=64, out_channels=128, kernel_size=5)\n",
    "        self.bn2 = nn.BatchNorm2d(128)\n",
    "\n",
    "        self.fc1 = nn.Linear(320, 10)\n",
    "\n",
    "    def forward(self, x):\n",
    "        x = self.conv1(x)\n",
    "        x = self.bn1(x)\n",
    "        x = F.relu(x)\n",
    "        \n",
    "        x = self.conv2(x)\n",
    "        x = self.bn2(x)\n",
    "        x = F.relu(x)\n",
    "        x = x.view(-1, 320)\n",
    "        x = F.relu(self.fc1(x))\n",
    "        return F.log_softmax(x)\n",
    "\n",
    "net = Model()\n"
   ]
  },
  {
   "cell_type": "markdown",
   "metadata": {},
   "source": [
    "This network contains 2 convolutional layers, and one fully connected layer. The first convolution has a kernel of [5x5] takes an 2D image with 3 channels, and outputs 64 channels.  The second convolution also has a kernel of [5x5],  but takes the 64 channels output from convolution 1 and outputs 128 channels. Both layers are implemented with ReLu activation and batchnorm. After the convolutional layers the data is reshaped using `x.view(-1, 320)`, which allows it to be fed into the final FC layer (which expects a vector). The last step is a softmax activation function."
   ]
  },
  {
   "cell_type": "markdown",
   "metadata": {},
   "source": [
    "### Loss Function\n",
    "The loss function is used to measure how well the prediction model is able to predict the expected results. PyTorch already has many standard loss functions in the torch.nn module. For example, you can use the Cross-Entropy Loss to solve a multi-class classification problem, or a mean squared error (MSE) loss for regression. \n",
    "\n",
    "For example, to define the loss function and compute the losses:\n",
    "\n",
    "```python\n",
    "loss_CE = nn.CrossEntropyLoss()\n",
    "loss_MSE = nn.MSELoss()\n",
    "\n",
    "#training process\n",
    "loss = loss_CE(prediction, target)\n",
    "```"
   ]
  },
  {
   "cell_type": "markdown",
   "metadata": {},
   "source": [
    "### Optimizer\n",
    "There are many optmizers available in pytorch - see https://pytorch.org/docs/stable/optim.html for full list and further examples.\n",
    "\n",
    "You define an optmizer in the following way:\n",
    "\n",
    "```python\n",
    "optim = torch.optim.SGD(net.parameters(), lr = 0.01, momentum=0.9)\n",
    "```\n"
   ]
  },
  {
   "cell_type": "markdown",
   "metadata": {},
   "source": [
    "### Backprop and clearing gradients\n",
    "To perform the backpropagation, you call the loss.backward(), followed by optim.step(). **You should clear gradients before every training iteration to ensure there's no gradients remaining**. This is to avoid mixing up gradients between minibatches. More specifically however, it is an sideeffect of the fact that PyTorch implements dynamic computation graphs as opposed to static ones (like tensorflow). In addition, the fact that the backward() function in Pytorch accumulates gradients is useful for Recurrent Neural Networks and complex networks with multiple different parts.\n",
    "\n",
    "```python\n",
    "net.zero_grad() # to clear the existing gradient - this should be done prior to a training pass\n",
    "optim.zero_grad() # to clear gradient in optimizer - this is equivalent to net.zero_grad(). \n",
    "loss.backward() # to perform backpropragation - accumulates the gradient (by addition) for each parameter\n",
    "optim.step() # optimizer.step is performs a parameter update based on the current gradient (stored in .grad attribute of a parameter) and the update rule. \n",
    "```"
   ]
  },
  {
   "cell_type": "markdown",
   "metadata": {
    "hideCode": true
   },
   "source": [
    "## Sequential Models\n",
    "\n",
    "It should be clear that as networks become more and more complicated, the forward function can quickly become long and cluttered. For these reasons PyTorch provides functionality to combine steps by stacking Modules in blocks usin `nn.sequential`."
   ]
  },
  {
   "cell_type": "code",
   "execution_count": 4,
   "metadata": {},
   "outputs": [],
   "source": [
    "class Model(nn.Module):\n",
    " def __init__(self):\n",
    "        super(Model, self).__init__()\n",
    "    \n",
    "        self.conv_block1 = nn.Sequential(\n",
    "            nn.Conv2d(in_channels=3, out_channels=64, kernel_size=5),\n",
    "            nn.BatchNorm2d(64),\n",
    "            nn.ReLU()\n",
    "        )\n",
    "        \n",
    "        self.conv_block2 = nn.Sequential(\n",
    "            nn.Conv2d(in_channels=64, out_channels=128, kernel_size=5),\n",
    "            nn.BatchNorm2d(128),\n",
    "            nn.ReLU()\n",
    "        )\n",
    "        \n",
    "        self.fc1 = nn.Linear(320, 10)\n",
    "\n",
    "def forward(self, x):\n",
    "       x = self.conv_block1(x) \n",
    "       x = self.conv_block2(x)\n",
    "       x = x.view(-1, 320)\n",
    "       x = F.relu(self.fc1(x))\n",
    "       return F.log_softmax(x)\n",
    "\n",
    "net = Model()\n"
   ]
  },
  {
   "cell_type": "markdown",
   "metadata": {},
   "source": [
    "Sequential blocks are advantageous as they run faster. The one limitation, however, is that it is then not possible to observe the outputs of the intermediate steps stacked inside. If this is required, an alternative approach  can be to use a `ModudeList` or `ModuleDict`. For more functionality on `nn.sequential` `nn.ModuleList` and `nn.ModuleDict,` please read https://github.com/FrancescoSaverioZuppichini/Pytorch-how-and-when-to-use-Module-Sequential-ModuleList-and-ModuleDict "
   ]
  },
  {
   "cell_type": "markdown",
   "metadata": {},
   "source": [
    "## Simple Regression with PyTorch - Predicting a Simple Function\n",
    "\n",
    "### Creating a simple neural network\n",
    "\n",
    "We will now go through an example of how to create, train and test a PyTorch implementation of logistic regression (single layer neural network). It takes an input of size [1] and outputs also size [1].\n"
   ]
  },
  {
   "cell_type": "code",
   "execution_count": 5,
   "metadata": {},
   "outputs": [
    {
     "name": "stdout",
     "output_type": "stream",
     "text": [
      "Net(\n",
      "  (layer): Linear(in_features=1, out_features=1, bias=True)\n",
      ")\n"
     ]
    }
   ],
   "source": [
    "\n",
    "class Net(nn.Module):\n",
    "   def __init__(self):\n",
    "       super(Net, self).__init__()\n",
    "       self.layer = torch.nn.Linear(1, 1)\n",
    "\n",
    "   def forward(self, x):\n",
    "       x = self.layer(x)      \n",
    "       return x\n",
    "\n",
    "net = Net()\n",
    "print(net)\n"
   ]
  },
  {
   "cell_type": "markdown",
   "metadata": {},
   "source": [
    "### Simulate data using a simple function\n",
    "\n",
    "We can create simulated data to test our simple regression network. The aim is to use our neural network to estimate/ make predictions. \n",
    "\n",
    "We use the following function to randomly generate 100 data points:\n",
    "\n",
    "$Y = \\cos(x) \\times x^3 + 4x + 0.6 \\times rand()$\n",
    "\n"
   ]
  },
  {
   "cell_type": "code",
   "execution_count": 6,
   "metadata": {},
   "outputs": [
    {
     "data": {
      "image/png": "[encoded data removed]",
      "text/plain": [
       "<Figure size 432x288 with 1 Axes>"
      ]
     },
     "metadata": {
      "needs_background": "light"
     },
     "output_type": "display_data"
    }
   ],
   "source": [
    "# Visualize our data\n",
    "import matplotlib.pyplot as plt\n",
    "import numpy as np\n",
    "%matplotlib inline\n",
    "\n",
    "x = np.random.rand(100)\n",
    "y = np.cos(x) * np.power(x,3) + 4*x + np.random.rand(100)*0.6\n",
    "\n",
    "plt.scatter(x, y)\n",
    "plt.show()\n"
   ]
  },
  {
   "cell_type": "markdown",
   "metadata": {},
   "source": [
    "Since we're using pytorch, we need to convert our numpy array to a pytorch tensor. The size of the input will be [100, 1], where 100 is the batch size, and 1 is the size of the input (as previously defined in our neural network)."
   ]
  },
  {
   "cell_type": "code",
   "execution_count": 7,
   "metadata": {},
   "outputs": [
    {
     "name": "stdout",
     "output_type": "stream",
     "text": [
      "torch.Size([100, 1]) torch.Size([100, 1])\n"
     ]
    }
   ],
   "source": [
    "# convert numpy array to tensor in shape of input size\n",
    "x = torch.from_numpy(x.reshape(-1,1)).float()\n",
    "y = torch.from_numpy(y.reshape(-1,1)).float()\n",
    "print(x.size(), y.size())\n"
   ]
  },
  {
   "cell_type": "markdown",
   "metadata": {},
   "source": [
    "### Define the optmizer and loss function\n",
    "\n",
    "We next define our optimizer and loss function. Since we are performing regression, the loss function we chose is Mean Squared Error, or l2 loss. Another common loss function for regression is the Mean Absolute Error, or l1 loss.\n"
   ]
  },
  {
   "cell_type": "code",
   "execution_count": 8,
   "metadata": {},
   "outputs": [],
   "source": [
    "# Define Optimizer and Loss Function\n",
    "#------------------------------------------------------task 1----------------------------------------------------------------\n",
    "# Task 1: change optimizer here\n",
    "optimizer = torch.optim.SGD(net.parameters(), lr=0.2)\n",
    "# Task 1: change loss function here\n",
    "loss_func = torch.nn.MSELoss()\n",
    "loss_func = torch.nn.L1Loss()\n",
    "#----------------------------------------------------------------------------------------------------------------------------\n"
   ]
  },
  {
   "cell_type": "markdown",
   "metadata": {},
   "source": [
    "### Training\n",
    "\n",
    "During training we iterate through our data. Here we use number of epochs = 200, but the optimal number largely depends on the dataset and the task.\n"
   ]
  },
  {
   "cell_type": "code",
   "execution_count": 9,
   "metadata": {},
   "outputs": [
    {
     "data": {
      "image/png": "[encoded data removed]",
      "text/plain": [
       "<Figure size 432x288 with 1 Axes>"
      ]
     },
     "metadata": {
      "needs_background": "light"
     },
     "output_type": "display_data"
    },
    {
     "data": {
      "image/png": "[encoded data removed]",
      "text/plain": [
       "<Figure size 432x288 with 1 Axes>"
      ]
     },
     "metadata": {
      "needs_background": "light"
     },
     "output_type": "display_data"
    },
    {
     "data": {
      "image/png": "[encoded data removed]",
      "text/plain": [
       "<Figure size 432x288 with 1 Axes>"
      ]
     },
     "metadata": {
      "needs_background": "light"
     },
     "output_type": "display_data"
    },
    {
     "data": {
      "image/png": "[encoded data removed]",
      "text/plain": [
       "<Figure size 432x288 with 1 Axes>"
      ]
     },
     "metadata": {
      "needs_background": "light"
     },
     "output_type": "display_data"
    },
    {
     "data": {
      "image/png": "[encoded data removed]",
      "text/plain": [
       "<Figure size 432x288 with 1 Axes>"
      ]
     },
     "metadata": {
      "needs_background": "light"
     },
     "output_type": "display_data"
    },
    {
     "data": {
      "image/png": "[encoded data removed]",
      "text/plain": [
       "<Figure size 432x288 with 1 Axes>"
      ]
     },
     "metadata": {
      "needs_background": "light"
     },
     "output_type": "display_data"
    },
    {
     "data": {
      "image/png": "[encoded data removed]",
      "text/plain": [
       "<Figure size 432x288 with 1 Axes>"
      ]
     },
     "metadata": {
      "needs_background": "light"
     },
     "output_type": "display_data"
    },
    {
     "data": {
      "image/png": "[encoded data removed]",
      "text/plain": [
       "<Figure size 432x288 with 1 Axes>"
      ]
     },
     "metadata": {
      "needs_background": "light"
     },
     "output_type": "display_data"
    },
    {
     "data": {
      "image/png": "[encoded data removed]",
      "text/plain": [
       "<Figure size 432x288 with 1 Axes>"
      ]
     },
     "metadata": {
      "needs_background": "light"
     },
     "output_type": "display_data"
    },
    {
     "data": {
      "image/png": "[encoded data removed]",
      "text/plain": [
       "<Figure size 432x288 with 1 Axes>"
      ]
     },
     "metadata": {
      "needs_background": "light"
     },
     "output_type": "display_data"
    },
    {
     "data": {
      "image/png": "[encoded data removed]",
      "text/plain": [
       "<Figure size 432x288 with 1 Axes>"
      ]
     },
     "metadata": {
      "needs_background": "light"
     },
     "output_type": "display_data"
    },
    {
     "data": {
      "image/png": "[encoded data removed]",
      "text/plain": [
       "<Figure size 432x288 with 1 Axes>"
      ]
     },
     "metadata": {
      "needs_background": "light"
     },
     "output_type": "display_data"
    },
    {
     "data": {
      "image/png": "[encoded data removed]",
      "text/plain": [
       "<Figure size 432x288 with 1 Axes>"
      ]
     },
     "metadata": {
      "needs_background": "light"
     },
     "output_type": "display_data"
    },
    {
     "data": {
      "image/png": "[encoded data removed]",
      "text/plain": [
       "<Figure size 432x288 with 1 Axes>"
      ]
     },
     "metadata": {
      "needs_background": "light"
     },
     "output_type": "display_data"
    },
    {
     "data": {
      "image/png": "[encoded data removed]",
      "text/plain": [
       "<Figure size 432x288 with 1 Axes>"
      ]
     },
     "metadata": {
      "needs_background": "light"
     },
     "output_type": "display_data"
    },
    {
     "data": {
      "image/png": "[encoded data removed]",
      "text/plain": [
       "<Figure size 432x288 with 1 Axes>"
      ]
     },
     "metadata": {
      "needs_background": "light"
     },
     "output_type": "display_data"
    },
    {
     "data": {
      "image/png": "[encoded data removed]",
      "text/plain": [
       "<Figure size 432x288 with 1 Axes>"
      ]
     },
     "metadata": {
      "needs_background": "light"
     },
     "output_type": "display_data"
    },
    {
     "data": {
      "image/png": "[encoded data removed]",
      "text/plain": [
       "<Figure size 432x288 with 1 Axes>"
      ]
     },
     "metadata": {
      "needs_background": "light"
     },
     "output_type": "display_data"
    },
    {
     "data": {
      "image/png": "[encoded data removed]",
      "text/plain": [
       "<Figure size 432x288 with 1 Axes>"
      ]
     },
     "metadata": {
      "needs_background": "light"
     },
     "output_type": "display_data"
    },
    {
     "data": {
      "image/png": "[encoded data removed]",
      "text/plain": [
       "<Figure size 432x288 with 1 Axes>"
      ]
     },
     "metadata": {
      "needs_background": "light"
     },
     "output_type": "display_data"
    }
   ],
   "source": [
    "inputs = x \n",
    "outputs = y \n",
    "epochs = 200\n",
    "for i in range(epochs):\n",
    "    optimizer.zero_grad() # clear gradients - here we could interchangibly use net.zero_grad()\n",
    "    prediction = net(inputs) # pass data through network\n",
    "    loss = loss_func(prediction, outputs) # compute loss  \n",
    "    loss.backward() # accumulate gradients       \n",
    "    optimizer.step() # update network parameters\n",
    "\n",
    "    # Display results\n",
    "    if i % 10 == 0:\n",
    "        # note how we need to tranform data back to numpy\n",
    "        plt.cla()\n",
    "        plt.scatter(x.data.numpy(), y.data.numpy())\n",
    "        plt.plot(x.data.numpy(), prediction.data.numpy(), 'r-', lw=2)\n",
    "        plt.text(0.5, 0, 'Loss=%.4f' % loss.data.numpy(), fontdict={'size': 10, 'color':  'red'})\n",
    "        plt.pause(0.1)\n",
    "\n"
   ]
  },
  {
   "cell_type": "markdown",
   "metadata": {},
   "source": [
    "### Result\n",
    "\n",
    "We have now set up and performed simple regression with a neural network. You can see the results above, how in every iteration the red line (the prediction) updates, and moves closer to fit the data.\n",
    "\n",
    "**You can perform regression with any neural network- the important step to remember is that your final layer should be of output size [1], and the loss function you use is suitable for regression - e.g. mean squared error, absolute sqaured error**\n",
    "\n",
    "### Task 1\n",
    "\n",
    "1. change the loss function to Mean Absolute Error (l1 loss) - which loss function work better?\n",
    "2. change the optimiser?"
   ]
  },
  {
   "cell_type": "markdown",
   "metadata": {},
   "source": [
    "## Image Classification with PyTorch - Handwritten Digit Class Prediction\n",
    "\n",
    "A very common dataset to learn the basics of deep learning, and even to validate new methods is with the MNIST dataset.\n",
    "The dataset is a set of 60,000 images of handwritten numbers between 0 - 9, of size [28,28] pixels, with labels.\n",
    "\n",
    "Here is an example of images from the dataset:\n",
    "\n",
    "![mnist](mnist.png)\n",
    "\n"
   ]
  },
  {
   "cell_type": "markdown",
   "metadata": {},
   "source": [
    "Loading the data again form Torchvision."
   ]
  },
  {
   "cell_type": "code",
   "execution_count": 24,
   "metadata": {},
   "outputs": [],
   "source": [
    "import torchvision\n",
    "import numpy as np\n",
    "from torchvision import datasets, models, transforms\n",
    "\n",
    "mnist_train_dataset = datasets.MNIST(root = 'mnist_data/train', download= True, train = True, transform = transforms.ToTensor())\n",
    "mnist_test_dataset = datasets.MNIST(root = 'mnist_data/test', download= True, train = False, transform = transforms.ToTensor())\n",
    "\n",
    "train_loader = torch.utils.data.DataLoader(\n",
    "       mnist_train_dataset, batch_size= 128, shuffle = True)\n",
    "\n",
    "test_loader = torch.utils.data.DataLoader(\n",
    "       mnist_test_dataset, batch_size = 128, shuffle = True)\n",
    "\n",
    "classes = ('0', '1', '2', '3',\n",
    "          '4', '5', '6', '7', '8', '9')"
   ]
  },
  {
   "cell_type": "markdown",
   "metadata": {},
   "source": [
    "The transform function converts the images into tensor and normalizes the value. The function torchvision.transforms.MNIST, will download the dataset (if it's not available) in the directory, set the dataset for training if necessary and do the transformation process.\n",
    "\n"
   ]
  },
  {
   "cell_type": "markdown",
   "metadata": {},
   "source": [
    "## MNIST classification using a fully connected (MLP) network\n",
    "\n",
    "We will make an MLP consisting of three fully connected layers, each followed by an Relu activation layer, with the exception of the final layer, where we use softmax (to output class label probabilities).\n",
    "\n",
    "We choose, arbitrarily, to have 50 hidden neurons each time. Feel free to change the number of hidden neurons yourself and see how it affects the result.\n",
    "\n",
    "After defining the layers of our module, we also have to define its forward function, i.e how those layers are pieced together. You can see how line by line the output of each layer is fed in as the input to the next. In more complex architectures, you may combine the layer outputs in more fancy ways than this."
   ]
  },
  {
   "cell_type": "code",
   "execution_count": 27,
   "metadata": {},
   "outputs": [],
   "source": [
    "class Model(nn.Module):\n",
    "    def __init__(self):\n",
    "        super(Model, self).__init__()\n",
    "        \n",
    "        self.fc1 = nn.Sequential(nn.Linear(28*28, 50), nn.ReLU())\n",
    "        \n",
    "        self.fc2 = nn.Sequential(nn.Linear(50, 50), nn.ReLU())\n",
    "        \n",
    "        self.fc3 = nn.Linear(50, 10)\n",
    "        \n",
    "        self.softmax = nn.Softmax(dim = 1)\n",
    "        \n",
    "    def forward(self, x): \n",
    "        \n",
    "        x = x.view(-1, 28*28) \n",
    "\n",
    "        x = self.fc1(x) \n",
    "        \n",
    "        x = self.fc2(x) \n",
    "        \n",
    "        x = self.fc3(x)  \n",
    "        \n",
    "        x = self.softmax(x)\n",
    "        return x\n",
    "    \n",
    "model = Model().to(device) # After we have defined our model we load it onto our device"
   ]
  },
  {
   "cell_type": "markdown",
   "metadata": {},
   "source": [
    "### Define Optimisers and Loss functions\n",
    "\n",
    "We choose to use the ADAM optimizer with learning rate 0.01, but perhaps you might try something else? Maybe SGD.\n",
    "\n",
    "An appropriate loss is the Cross Entropy Loss function."
   ]
  },
  {
   "cell_type": "code",
   "execution_count": 28,
   "metadata": {},
   "outputs": [],
   "source": [
    "optimizer = torch.optim.Adam(model.parameters(), lr=0.01) \n",
    "loss_function = nn.CrossEntropyLoss()"
   ]
  },
  {
   "cell_type": "markdown",
   "metadata": {},
   "source": [
    "Now we define a train and a test function, which should look rather similar.\n",
    "\n",
    "They do the following, in order:\n",
    "\n",
    "grab a batch of data\n",
    "zero all gradients (train only)\n",
    "pass the data through the network\n",
    "evaluate the loss and record it (if necessary)\n",
    "backpropogate the loss and update the parameters (train only)"
   ]
  },
  {
   "cell_type": "code",
   "execution_count": 29,
   "metadata": {},
   "outputs": [],
   "source": [
    "def train(epoch, log_interval=200):\n",
    "    # Set model to training mode\n",
    "    model.train()\n",
    "    \n",
    "    # Loop over each batch from the training set\n",
    "    for batch_number, (images, labels) in enumerate(train_loader):\n",
    "        # enumerate is an iterator similar to iter() except that it also gives the batch number \n",
    "        \n",
    "        # Copy data to GPU if needed\n",
    "        images = images.to(device)\n",
    "        labels = labels.to(device)\n",
    "        # Zero all the gradients before each batch\n",
    "        optimizer.zero_grad() \n",
    "        \n",
    "        # Pass the data through the network\n",
    "        output = model(images)\n",
    "\n",
    "        # Calculate loss\n",
    "        loss = loss_function(output, labels)\n",
    "\n",
    "        # Backpropagate\n",
    "        loss.backward()\n",
    "        \n",
    "        # Update weights\n",
    "        optimizer.step()\n",
    "        \n",
    "        if batch_number % log_interval == 0: # print the loss every 'log_interval' batch\n",
    "            print('Train Epoch: {} [{}/{} ({:.0f}%)]\\tLoss: {:.6f}'.format(\n",
    "                epoch, batch_number * len(images), len(train_loader.dataset),\n",
    "                100. * batch_number / len(train_loader), loss.data.item()))"
   ]
  },
  {
   "cell_type": "code",
   "execution_count": 30,
   "metadata": {},
   "outputs": [],
   "source": [
    "def validate(loss_vector, accuracy_vector):\n",
    "    # Set the model to evaluate mode. \n",
    "    \n",
    "    model.eval()\n",
    "    \n",
    "    val_loss, correct = 0, 0\n",
    "    for images, labels in test_loader:\n",
    "        # again the data is copied to the GPU if needed\n",
    "        images = images.to(device)\n",
    "        labels = labels.to(device)\n",
    "        \n",
    "        # pass the images to the model\n",
    "        \n",
    "        output = model(images)\n",
    "        \n",
    "        \n",
    "        val_loss += loss_function(output, labels).data.item() # here we are intersted in the total loss \n",
    "        \n",
    "        pred = output.data.max(1)[1] # get the index of the max log-probability\n",
    "        correct += pred.eq(labels.data).cpu().sum() # we sum the cases where the prediction and the label match\n",
    "                                                    # we need this data to be in the cpu to calculate\n",
    "    \n",
    "    val_loss /= len(test_loader) # now we divide the sum val loss by the total number of validation images\n",
    "                                       # to give an average validation loss\n",
    "        \n",
    "    loss_vector.append(val_loss) # we store this for possible graphing later\n",
    "\n",
    "    accuracy = 100. * correct.to(torch.float32) / len(test_loader.dataset)  # we do the same for accuracy\n",
    "    \n",
    "    accuracy_vector.append(accuracy)\n",
    "    \n",
    "    print('\\nValidation set: Average loss: {:.4f}, Accuracy: {}/{} ({:.0f}%)\\n'.format(\n",
    "        val_loss, correct, len(test_loader.dataset), accuracy))"
   ]
  },
  {
   "cell_type": "markdown",
   "metadata": {},
   "source": [
    "Note that it is essential that the model be set to train/eval mode depending on whether its training or validating (being applied to validation/test data). If in eval mode, the gradients will not be calculated, backpropogation will not take place and things like dropout will be set to evaluate mode so the network does not vary in response to the data for different runs.\n",
    "\n",
    "Now we simply choose the number of epochs (iterations over which the model sees the whole data) and perform the training and validation at each epoch."
   ]
  },
  {
   "cell_type": "code",
   "execution_count": 31,
   "metadata": {},
   "outputs": [
    {
     "name": "stdout",
     "output_type": "stream",
     "text": [
      "Train Epoch: 1 [0/60000 (0%)]\tLoss: 2.301968\n",
      "Train Epoch: 1 [25600/60000 (43%)]\tLoss: 1.631495\n",
      "Train Epoch: 1 [51200/60000 (85%)]\tLoss: 1.641886\n",
      "\n",
      "Validation set: Average loss: 1.5489, Accuracy: 9120/10000 (91%)\n",
      "\n",
      "Train Epoch: 2 [0/60000 (0%)]\tLoss: 1.536478\n",
      "Train Epoch: 2 [25600/60000 (43%)]\tLoss: 1.527850\n",
      "Train Epoch: 2 [51200/60000 (85%)]\tLoss: 1.592811\n",
      "\n",
      "Validation set: Average loss: 1.5254, Accuracy: 9360/10000 (94%)\n",
      "\n",
      "Train Epoch: 3 [0/60000 (0%)]\tLoss: 1.560844\n",
      "Train Epoch: 3 [25600/60000 (43%)]\tLoss: 1.499240\n",
      "Train Epoch: 3 [51200/60000 (85%)]\tLoss: 1.523741\n",
      "\n",
      "Validation set: Average loss: 1.5356, Accuracy: 9251/10000 (93%)\n",
      "\n",
      "Train Epoch: 4 [0/60000 (0%)]\tLoss: 1.476971\n",
      "Train Epoch: 4 [25600/60000 (43%)]\tLoss: 1.493074\n",
      "Train Epoch: 4 [51200/60000 (85%)]\tLoss: 1.578096\n",
      "\n",
      "Validation set: Average loss: 1.5364, Accuracy: 9239/10000 (92%)\n",
      "\n",
      "Train Epoch: 5 [0/60000 (0%)]\tLoss: 1.536328\n",
      "Train Epoch: 5 [25600/60000 (43%)]\tLoss: 1.500582\n",
      "Train Epoch: 5 [51200/60000 (85%)]\tLoss: 1.547087\n",
      "\n",
      "Validation set: Average loss: 1.5212, Accuracy: 9393/10000 (94%)\n",
      "\n",
      "Train Epoch: 6 [0/60000 (0%)]\tLoss: 1.523567\n",
      "Train Epoch: 6 [25600/60000 (43%)]\tLoss: 1.527717\n",
      "Train Epoch: 6 [51200/60000 (85%)]\tLoss: 1.537325\n",
      "\n",
      "Validation set: Average loss: 1.5235, Accuracy: 9366/10000 (94%)\n",
      "\n",
      "Train Epoch: 7 [0/60000 (0%)]\tLoss: 1.540185\n",
      "Train Epoch: 7 [25600/60000 (43%)]\tLoss: 1.554893\n",
      "Train Epoch: 7 [51200/60000 (85%)]\tLoss: 1.528908\n",
      "\n",
      "Validation set: Average loss: 1.5347, Accuracy: 9262/10000 (93%)\n",
      "\n"
     ]
    }
   ],
   "source": [
    "epochs = 7\n",
    "\n",
    "lossv, accv = [], []\n",
    "for epoch in range(1, epochs + 1):\n",
    "    train(epoch)\n",
    "    validate(lossv, accv)"
   ]
  },
  {
   "cell_type": "markdown",
   "metadata": {},
   "source": [
    "Finally, we can plot our validation loss and accuracy in a graph to see our progress:"
   ]
  },
  {
   "cell_type": "code",
   "execution_count": 32,
   "metadata": {},
   "outputs": [
    {
     "data": {
      "image/png": "[encoded data removed]",
      "text/plain": [
       "<Figure size 360x216 with 1 Axes>"
      ]
     },
     "metadata": {
      "needs_background": "light"
     },
     "output_type": "display_data"
    },
    {
     "data": {
      "image/png": "[encoded data removed]",
      "text/plain": [
       "<Figure size 360x216 with 1 Axes>"
      ]
     },
     "metadata": {
      "needs_background": "light"
     },
     "output_type": "display_data"
    }
   ],
   "source": [
    "import matplotlib.pyplot as plt\n",
    "\n",
    "plt.figure(figsize=(5,3))\n",
    "plt.plot(np.arange(1,epochs+1), lossv)\n",
    "plt.title('validation loss')\n",
    "\n",
    "plt.figure(figsize=(5,3))\n",
    "plt.plot(np.arange(1,epochs+1), accv)\n",
    "plt.title('validation accuracy');"
   ]
  },
  {
   "cell_type": "markdown",
   "metadata": {},
   "source": [
    "Done! We've trained an MLP! Is this a good network? For reference, a test accuracy of below ~97% on MNIST is considered poor.\n",
    "\n",
    "**task** reimplement using `nn.sequential` and check you get the same result"
   ]
  },
  {
   "cell_type": "markdown",
   "metadata": {},
   "source": [
    "## MNIST classification using a simple convolutional network\n",
    "\n",
    "We next extend to a convolutional implementation and investigate whether this boosts training.\n",
    "\n",
    "First let us redefine our DataLoaders with smaller batch sizes."
   ]
  },
  {
   "cell_type": "code",
   "execution_count": 34,
   "metadata": {},
   "outputs": [],
   "source": [
    "train_loader = torch.utils.data.DataLoader(\n",
    "       mnist_train_dataset, batch_size= 8, shuffle = True)\n",
    "\n",
    "test_loader = torch.utils.data.DataLoader(\n",
    "       mnist_test_dataset, batch_size = 8, shuffle = True)"
   ]
  },
  {
   "cell_type": "markdown",
   "metadata": {},
   "source": [
    "We create a network with 2 convolutional layers with max pooling and relu non-linearities. The output size = [10], since we have 10 classes, and is followed by a softmax layer to ensure the result is a set of probabilities for each class. Softmax is very commonly used as the last layer in classification tasks.\n"
   ]
  },
  {
   "cell_type": "code",
   "execution_count": 35,
   "metadata": {},
   "outputs": [
    {
     "name": "stdout",
     "output_type": "stream",
     "text": [
      "MNIST_Model(\n",
      "  (conv_blocks): Sequential(\n",
      "    (0): Conv2d(1, 10, kernel_size=(5, 5), stride=(1, 1))\n",
      "    (1): MaxPool2d(kernel_size=2, stride=2, padding=0, dilation=1, ceil_mode=False)\n",
      "    (2): ReLU()\n",
      "    (3): Dropout2d(p=0.5, inplace=False)\n",
      "    (4): Conv2d(10, 20, kernel_size=(5, 5), stride=(1, 1))\n",
      "    (5): MaxPool2d(kernel_size=2, stride=2, padding=0, dilation=1, ceil_mode=False)\n",
      "    (6): ReLU()\n",
      "  )\n",
      "  (lin_blocks): Sequential(\n",
      "    (0): Linear(in_features=320, out_features=50, bias=True)\n",
      "    (1): ReLU()\n",
      "    (2): Linear(in_features=50, out_features=10, bias=True)\n",
      "  )\n",
      ")\n"
     ]
    }
   ],
   "source": [
    "import torch.nn as nn\n",
    "\n",
    "\n",
    "class MNIST_Model(nn.Module):\n",
    "    def __init__(self):\n",
    "        super(MNIST_Model, self).__init__()\n",
    "    \n",
    "        self.conv_blocks = nn.Sequential(\n",
    "            nn.Conv2d(1, 10, kernel_size=5),\n",
    "            nn.MaxPool2d(2),\n",
    "            nn.ReLU(),\n",
    "            nn.Dropout2d(),\n",
    "            nn.Conv2d(10, 20, kernel_size=5),\n",
    "            nn.MaxPool2d(2),\n",
    "            nn.ReLU(),\n",
    "        )\n",
    "        \n",
    "        self.lin_blocks = nn.Sequential(\n",
    "            nn.Linear(320, 50),\n",
    "            nn.ReLU(),\n",
    "            nn.Linear(50, 10),\n",
    "            #nn.Softmax(),\n",
    "        )\n",
    "        \n",
    "    \n",
    "    def forward(self, x):\n",
    "        x = self.conv_blocks(x) \n",
    "        x = x.view(x.size(0),-1)\n",
    "        x = self.lin_blocks(x)\n",
    "\n",
    "        return F.log_softmax(x,dim=1)\n",
    "\n",
    "    \n",
    "net = MNIST_Model() #seq_model\n",
    "print(net)\n",
    "net = net.to(device)"
   ]
  },
  {
   "cell_type": "markdown",
   "metadata": {},
   "source": [
    "**Task** either get them to change to sequential or get them to implement the conv blocks by themselves fr"
   ]
  },
  {
   "cell_type": "markdown",
   "metadata": {},
   "source": [
    "### Loss function and optimizer\n",
    "\n",
    "We again need to define our loss and optimizers. In this case, since we're doing classification, we use **CrossEntropy Loss**, a commonly used loss function for classification.\n"
   ]
  },
  {
   "cell_type": "code",
   "execution_count": 36,
   "metadata": {},
   "outputs": [],
   "source": [
    "import torch.optim as optim\n",
    "\n",
    "loss_fun = nn.CrossEntropyLoss()\n",
    "loss_fun = loss_fun.to(device)\n",
    "optimizer = optim.SGD(net.parameters(), lr=0.001, momentum=0.9)\n",
    "\n"
   ]
  },
  {
   "cell_type": "markdown",
   "metadata": {},
   "source": [
    "### Training \n",
    "\n",
    "We will now train our classifer model - this time iterating using enumerate. \n",
    "\n",
    "### Task 2 \n",
    "\n",
    "Implement the training interations - see example from regression task\n",
    "\n",
    "At each epoch, as before we need to clear gradients first (since they are accumalated at each backward step), then we pass the data through the network to make a prediction, compute loss and gradiets, and finally update the parameters.\n"
   ]
  },
  {
   "cell_type": "code",
   "execution_count": 38,
   "metadata": {},
   "outputs": [
    {
     "name": "stdout",
     "output_type": "stream",
     "text": [
      "[1,     1] loss: 0.144\n",
      "[1,    11] loss: 0.045\n",
      "[1,    21] loss: 0.003\n",
      "[1,    31] loss: 0.016\n",
      "[1,    41] loss: 1.762\n",
      "[1,    51] loss: 0.225\n",
      "[1,    61] loss: 1.117\n",
      "[1,    71] loss: 0.075\n",
      "[1,    81] loss: 0.016\n",
      "[1,    91] loss: 0.058\n",
      "[1,   101] loss: 0.040\n",
      "[1,   111] loss: 0.036\n",
      "[1,   121] loss: 0.156\n",
      "[1,   131] loss: 0.031\n",
      "[1,   141] loss: 0.894\n",
      "[1,   151] loss: 0.035\n",
      "[1,   161] loss: 0.005\n",
      "[1,   171] loss: 0.084\n",
      "[1,   181] loss: 0.148\n",
      "[1,   191] loss: 0.087\n",
      "[1,   201] loss: 0.100\n",
      "[1,   211] loss: 0.091\n",
      "[1,   221] loss: 0.005\n",
      "[1,   231] loss: 0.024\n",
      "[1,   241] loss: 0.001\n",
      "[1,   251] loss: 0.090\n",
      "[1,   261] loss: 0.943\n",
      "[1,   271] loss: 0.012\n",
      "[1,   281] loss: 0.434\n",
      "[1,   291] loss: 0.009\n",
      "[1,   301] loss: 0.008\n",
      "[1,   311] loss: 0.216\n",
      "[1,   321] loss: 0.009\n",
      "[1,   331] loss: 1.003\n",
      "[1,   341] loss: 0.000\n",
      "[1,   351] loss: 0.098\n",
      "[1,   361] loss: 0.011\n",
      "[1,   371] loss: 0.040\n",
      "[1,   381] loss: 1.251\n",
      "[1,   391] loss: 0.356\n",
      "[1,   401] loss: 0.055\n",
      "[1,   411] loss: 0.052\n",
      "[1,   421] loss: 0.443\n",
      "[1,   431] loss: 0.038\n",
      "[1,   441] loss: 0.341\n",
      "[1,   451] loss: 0.047\n",
      "[1,   461] loss: 0.090\n",
      "[1,   471] loss: 0.115\n",
      "[1,   481] loss: 0.035\n",
      "[1,   491] loss: 0.256\n",
      "[1,   501] loss: 0.096\n",
      "[1,   511] loss: 0.042\n",
      "[1,   521] loss: 0.121\n",
      "[1,   531] loss: 0.308\n",
      "[1,   541] loss: 0.007\n",
      "[1,   551] loss: 0.303\n",
      "[1,   561] loss: 0.352\n",
      "[1,   571] loss: 0.749\n",
      "[1,   581] loss: 0.026\n",
      "[1,   591] loss: 0.039\n",
      "[1,   601] loss: 0.010\n",
      "[1,   611] loss: 0.012\n",
      "[1,   621] loss: 0.068\n",
      "[1,   631] loss: 0.017\n",
      "[1,   641] loss: 0.338\n",
      "[1,   651] loss: 0.002\n",
      "[1,   661] loss: 0.109\n",
      "[1,   671] loss: 0.669\n",
      "[1,   681] loss: 1.321\n",
      "[1,   691] loss: 0.786\n",
      "[1,   701] loss: 0.001\n",
      "[1,   711] loss: 0.456\n",
      "[1,   721] loss: 0.031\n",
      "[1,   731] loss: 0.677\n",
      "[1,   741] loss: 0.027\n",
      "[1,   751] loss: 0.271\n",
      "[1,   761] loss: 0.076\n",
      "[1,   771] loss: 0.014\n",
      "[1,   781] loss: 0.263\n",
      "[1,   791] loss: 0.092\n",
      "[1,   801] loss: 0.145\n",
      "[1,   811] loss: 0.005\n",
      "[1,   821] loss: 0.079\n",
      "[1,   831] loss: 0.006\n",
      "[1,   841] loss: 0.092\n",
      "[1,   851] loss: 0.005\n",
      "[1,   861] loss: 0.269\n",
      "[1,   871] loss: 0.051\n",
      "[1,   881] loss: 0.065\n",
      "[1,   891] loss: 0.012\n",
      "[1,   901] loss: 0.213\n",
      "[1,   911] loss: 0.027\n",
      "[1,   921] loss: 0.138\n",
      "[1,   931] loss: 0.007\n",
      "[1,   941] loss: 0.005\n",
      "[1,   951] loss: 0.034\n",
      "[1,   961] loss: 0.031\n",
      "[1,   971] loss: 0.765\n",
      "[1,   981] loss: 0.104\n",
      "[1,   991] loss: 0.153\n",
      "[1,  1001] loss: 0.003\n",
      "[1,  1011] loss: 0.381\n",
      "[1,  1021] loss: 0.003\n",
      "[1,  1031] loss: 0.256\n",
      "[1,  1041] loss: 0.021\n",
      "[1,  1051] loss: 0.003\n",
      "[1,  1061] loss: 0.168\n",
      "[1,  1071] loss: 0.572\n",
      "[1,  1081] loss: 0.031\n",
      "[1,  1091] loss: 0.710\n",
      "[1,  1101] loss: 0.293\n",
      "[1,  1111] loss: 0.133\n",
      "[1,  1121] loss: 0.024\n",
      "[1,  1131] loss: 0.014\n",
      "[1,  1141] loss: 0.015\n",
      "[1,  1151] loss: 0.052\n",
      "[1,  1161] loss: 0.009\n",
      "[1,  1171] loss: 0.014\n",
      "[1,  1181] loss: 0.506\n",
      "[1,  1191] loss: 0.001\n",
      "[1,  1201] loss: 0.033\n",
      "[1,  1211] loss: 0.048\n",
      "[1,  1221] loss: 0.003\n",
      "[1,  1231] loss: 0.005\n",
      "[1,  1241] loss: 0.183\n",
      "[1,  1251] loss: 0.042\n",
      "[1,  1261] loss: 0.010\n",
      "[1,  1271] loss: 0.026\n",
      "[1,  1281] loss: 0.010\n",
      "[1,  1291] loss: 0.092\n",
      "[1,  1301] loss: 0.008\n",
      "[1,  1311] loss: 0.118\n",
      "[1,  1321] loss: 0.172\n",
      "[1,  1331] loss: 0.023\n",
      "[1,  1341] loss: 0.000\n",
      "[1,  1351] loss: 0.001\n",
      "[1,  1361] loss: 0.093\n",
      "[1,  1371] loss: 0.022\n",
      "[1,  1381] loss: 0.359\n",
      "[1,  1391] loss: 0.020\n",
      "[1,  1401] loss: 0.000\n",
      "[1,  1411] loss: 0.122\n",
      "[1,  1421] loss: 0.089\n",
      "[1,  1431] loss: 0.036\n",
      "[1,  1441] loss: 0.015\n",
      "[1,  1451] loss: 0.161\n",
      "[1,  1461] loss: 0.017\n",
      "[1,  1471] loss: 0.181\n",
      "[1,  1481] loss: 0.229\n",
      "[1,  1491] loss: 0.010\n",
      "[1,  1501] loss: 0.036\n",
      "[1,  1511] loss: 0.024\n",
      "[1,  1521] loss: 0.001\n",
      "[1,  1531] loss: 0.286\n",
      "[1,  1541] loss: 0.111\n",
      "[1,  1551] loss: 0.084\n",
      "[1,  1561] loss: 0.681\n",
      "[1,  1571] loss: 0.010\n",
      "[1,  1581] loss: 0.117\n",
      "[1,  1591] loss: 0.015\n",
      "[1,  1601] loss: 0.099\n",
      "[1,  1611] loss: 0.000\n",
      "[1,  1621] loss: 0.063\n",
      "[1,  1631] loss: 0.394\n",
      "[1,  1641] loss: 0.071\n",
      "[1,  1651] loss: 0.062\n",
      "[1,  1661] loss: 0.001\n",
      "[1,  1671] loss: 0.043\n",
      "[1,  1681] loss: 0.051\n",
      "[1,  1691] loss: 0.081\n",
      "[1,  1701] loss: 0.006\n",
      "[1,  1711] loss: 0.105\n",
      "[1,  1721] loss: 0.216\n",
      "[1,  1731] loss: 0.055\n",
      "[1,  1741] loss: 0.986\n",
      "[1,  1751] loss: 0.013\n",
      "[1,  1761] loss: 0.322\n",
      "[1,  1771] loss: 0.009\n",
      "[1,  1781] loss: 0.366\n",
      "[1,  1791] loss: 0.258\n",
      "[1,  1801] loss: 0.006\n",
      "[1,  1811] loss: 0.131\n",
      "[1,  1821] loss: 0.020\n",
      "[1,  1831] loss: 0.199\n",
      "[1,  1841] loss: 0.238\n",
      "[1,  1851] loss: 0.001\n",
      "[1,  1861] loss: 0.326\n",
      "[1,  1871] loss: 0.015\n",
      "[1,  1881] loss: 0.143\n",
      "[1,  1891] loss: 0.032\n",
      "[1,  1901] loss: 0.062\n",
      "[1,  1911] loss: 0.131\n",
      "[1,  1921] loss: 0.172\n",
      "[1,  1931] loss: 0.198\n",
      "[1,  1941] loss: 0.056\n",
      "[1,  1951] loss: 0.004\n",
      "[1,  1961] loss: 0.100\n",
      "[1,  1971] loss: 0.427\n",
      "[1,  1981] loss: 0.353\n",
      "[1,  1991] loss: 0.031\n",
      "[1,  2001] loss: 0.061\n",
      "[1,  2011] loss: 0.019\n",
      "[1,  2021] loss: 0.053\n",
      "[1,  2031] loss: 0.400\n",
      "[1,  2041] loss: 0.003\n",
      "[1,  2051] loss: 0.023\n",
      "[1,  2061] loss: 0.026\n",
      "[1,  2071] loss: 0.059\n",
      "[1,  2081] loss: 0.026\n",
      "[1,  2091] loss: 0.107\n",
      "[1,  2101] loss: 0.008\n",
      "[1,  2111] loss: 0.795\n",
      "[1,  2121] loss: 0.190\n",
      "[1,  2131] loss: 0.095\n",
      "[1,  2141] loss: 0.212\n",
      "[1,  2151] loss: 0.139\n",
      "[1,  2161] loss: 0.007\n",
      "[1,  2171] loss: 0.185\n",
      "[1,  2181] loss: 0.004\n",
      "[1,  2191] loss: 0.014\n",
      "[1,  2201] loss: 0.063\n",
      "[1,  2211] loss: 0.094\n",
      "[1,  2221] loss: 0.009\n",
      "[1,  2231] loss: 0.227\n",
      "[1,  2241] loss: 0.005\n",
      "[1,  2251] loss: 0.453\n",
      "[1,  2261] loss: 0.346\n",
      "[1,  2271] loss: 0.828\n",
      "[1,  2281] loss: 0.213\n",
      "[1,  2291] loss: 0.040\n",
      "[1,  2301] loss: 0.020\n",
      "[1,  2311] loss: 0.250\n",
      "[1,  2321] loss: 0.004\n",
      "[1,  2331] loss: 0.006\n",
      "[1,  2341] loss: 0.058\n",
      "[1,  2351] loss: 0.022\n",
      "[1,  2361] loss: 0.015\n",
      "[1,  2371] loss: 0.037\n",
      "[1,  2381] loss: 0.311\n",
      "[1,  2391] loss: 1.305\n",
      "[1,  2401] loss: 0.008\n",
      "[1,  2411] loss: 0.410\n",
      "[1,  2421] loss: 0.037\n",
      "[1,  2431] loss: 0.012\n",
      "[1,  2441] loss: 0.012\n",
      "[1,  2451] loss: 0.127\n",
      "[1,  2461] loss: 0.001\n",
      "[1,  2471] loss: 0.126\n",
      "[1,  2481] loss: 0.004\n",
      "[1,  2491] loss: 0.205\n",
      "[1,  2501] loss: 0.259\n",
      "[1,  2511] loss: 0.007\n",
      "[1,  2521] loss: 0.010\n",
      "[1,  2531] loss: 0.381\n",
      "[1,  2541] loss: 0.015\n",
      "[1,  2551] loss: 0.003\n",
      "[1,  2561] loss: 0.001\n",
      "[1,  2571] loss: 0.017\n",
      "[1,  2581] loss: 0.033\n",
      "[1,  2591] loss: 0.222\n",
      "[1,  2601] loss: 0.005\n",
      "[1,  2611] loss: 0.045\n",
      "[1,  2621] loss: 0.027\n",
      "[1,  2631] loss: 0.018\n",
      "[1,  2641] loss: 0.087\n",
      "[1,  2651] loss: 0.012\n",
      "[1,  2661] loss: 0.169\n",
      "[1,  2671] loss: 0.023\n",
      "[1,  2681] loss: 0.088\n",
      "[1,  2691] loss: 0.011\n",
      "[1,  2701] loss: 0.025\n",
      "[1,  2711] loss: 0.188\n",
      "[1,  2721] loss: 0.007\n",
      "[1,  2731] loss: 0.008\n",
      "[1,  2741] loss: 0.238\n",
      "[1,  2751] loss: 0.079\n",
      "[1,  2761] loss: 0.011\n",
      "[1,  2771] loss: 0.004\n",
      "[1,  2781] loss: 0.040\n",
      "[1,  2791] loss: 0.096\n",
      "[1,  2801] loss: 0.118\n",
      "[1,  2811] loss: 0.857\n",
      "[1,  2821] loss: 0.065\n",
      "[1,  2831] loss: 0.044\n",
      "[1,  2841] loss: 0.018\n",
      "[1,  2851] loss: 1.015\n",
      "[1,  2861] loss: 0.023\n",
      "[1,  2871] loss: 0.003\n",
      "[1,  2881] loss: 0.044\n",
      "[1,  2891] loss: 0.223\n",
      "[1,  2901] loss: 1.112\n",
      "[1,  2911] loss: 0.071\n",
      "[1,  2921] loss: 0.301\n",
      "[1,  2931] loss: 0.036\n",
      "[1,  2941] loss: 0.031\n",
      "[1,  2951] loss: 0.008\n",
      "[1,  2961] loss: 0.009\n",
      "[1,  2971] loss: 0.104\n",
      "[1,  2981] loss: 0.389\n",
      "[1,  2991] loss: 0.000\n",
      "[1,  3001] loss: 0.351\n",
      "[1,  3011] loss: 0.001\n",
      "[1,  3021] loss: 0.014\n",
      "[1,  3031] loss: 0.004\n",
      "[1,  3041] loss: 0.007\n",
      "[1,  3051] loss: 0.191\n",
      "[1,  3061] loss: 0.041\n",
      "[1,  3071] loss: 0.004\n",
      "[1,  3081] loss: 0.011\n",
      "[1,  3091] loss: 0.139\n",
      "[1,  3101] loss: 0.033\n",
      "[1,  3111] loss: 0.010\n",
      "[1,  3121] loss: 0.025\n",
      "[1,  3131] loss: 0.297\n",
      "[1,  3141] loss: 0.006\n",
      "[1,  3151] loss: 0.427\n",
      "[1,  3161] loss: 0.129\n",
      "[1,  3171] loss: 0.056\n",
      "[1,  3181] loss: 0.019\n",
      "[1,  3191] loss: 0.581\n",
      "[1,  3201] loss: 0.103\n",
      "[1,  3211] loss: 0.018\n",
      "[1,  3221] loss: 0.009\n",
      "[1,  3231] loss: 0.027\n",
      "[1,  3241] loss: 0.008\n",
      "[1,  3251] loss: 0.019\n",
      "[1,  3261] loss: 0.177\n",
      "[1,  3271] loss: 0.004\n",
      "[1,  3281] loss: 0.043\n",
      "[1,  3291] loss: 0.004\n",
      "[1,  3301] loss: 0.023\n",
      "[1,  3311] loss: 0.065\n",
      "[1,  3321] loss: 0.066\n",
      "[1,  3331] loss: 0.298\n",
      "[1,  3341] loss: 0.035\n",
      "[1,  3351] loss: 0.295\n",
      "[1,  3361] loss: 0.666\n",
      "[1,  3371] loss: 0.333\n",
      "[1,  3381] loss: 0.034\n",
      "[1,  3391] loss: 0.001\n",
      "[1,  3401] loss: 0.277\n",
      "[1,  3411] loss: 0.037\n",
      "[1,  3421] loss: 0.004\n",
      "[1,  3431] loss: 0.006\n",
      "[1,  3441] loss: 0.022\n",
      "[1,  3451] loss: 0.150\n",
      "[1,  3461] loss: 0.183\n",
      "[1,  3471] loss: 0.028\n",
      "[1,  3481] loss: 0.032\n",
      "[1,  3491] loss: 0.004\n",
      "[1,  3501] loss: 0.458\n",
      "[1,  3511] loss: 0.002\n",
      "[1,  3521] loss: 0.837\n",
      "[1,  3531] loss: 0.006\n",
      "[1,  3541] loss: 0.034\n",
      "[1,  3551] loss: 0.072\n",
      "[1,  3561] loss: 0.006\n",
      "[1,  3571] loss: 0.029\n",
      "[1,  3581] loss: 0.111\n",
      "[1,  3591] loss: 0.329\n",
      "[1,  3601] loss: 0.061\n"
     ]
    },
    {
     "name": "stdout",
     "output_type": "stream",
     "text": [
      "[1,  3611] loss: 0.180\n",
      "[1,  3621] loss: 0.048\n",
      "[1,  3631] loss: 0.092\n",
      "[1,  3641] loss: 0.017\n",
      "[1,  3651] loss: 0.001\n",
      "[1,  3661] loss: 0.081\n",
      "[1,  3671] loss: 0.090\n",
      "[1,  3681] loss: 0.042\n",
      "[1,  3691] loss: 0.006\n",
      "[1,  3701] loss: 0.046\n",
      "[1,  3711] loss: 0.364\n",
      "[1,  3721] loss: 0.013\n",
      "[1,  3731] loss: 0.019\n",
      "[1,  3741] loss: 0.537\n",
      "[1,  3751] loss: 0.053\n",
      "[1,  3761] loss: 0.077\n",
      "[1,  3771] loss: 0.066\n",
      "[1,  3781] loss: 0.015\n",
      "[1,  3791] loss: 0.006\n",
      "[1,  3801] loss: 0.307\n",
      "[1,  3811] loss: 0.286\n",
      "[1,  3821] loss: 0.149\n",
      "[1,  3831] loss: 0.037\n",
      "[1,  3841] loss: 0.501\n",
      "[1,  3851] loss: 0.058\n",
      "[1,  3861] loss: 0.900\n",
      "[1,  3871] loss: 0.173\n",
      "[1,  3881] loss: 0.164\n",
      "[1,  3891] loss: 0.031\n",
      "[1,  3901] loss: 0.003\n",
      "[1,  3911] loss: 0.001\n",
      "[1,  3921] loss: 0.053\n",
      "[1,  3931] loss: 0.071\n",
      "[1,  3941] loss: 0.018\n",
      "[1,  3951] loss: 0.002\n",
      "[1,  3961] loss: 0.001\n",
      "[1,  3971] loss: 0.508\n",
      "[1,  3981] loss: 0.121\n",
      "[1,  3991] loss: 0.321\n",
      "[1,  4001] loss: 0.155\n",
      "[1,  4011] loss: 0.014\n",
      "[1,  4021] loss: 0.007\n",
      "[1,  4031] loss: 0.386\n",
      "[1,  4041] loss: 0.816\n",
      "[1,  4051] loss: 0.100\n",
      "[1,  4061] loss: 0.039\n",
      "[1,  4071] loss: 0.057\n",
      "[1,  4081] loss: 0.001\n",
      "[1,  4091] loss: 0.016\n",
      "[1,  4101] loss: 0.414\n",
      "[1,  4111] loss: 0.218\n",
      "[1,  4121] loss: 0.694\n",
      "[1,  4131] loss: 0.079\n",
      "[1,  4141] loss: 0.742\n",
      "[1,  4151] loss: 0.052\n",
      "[1,  4161] loss: 0.061\n",
      "[1,  4171] loss: 0.044\n",
      "[1,  4181] loss: 0.233\n",
      "[1,  4191] loss: 0.019\n",
      "[1,  4201] loss: 0.260\n",
      "[1,  4211] loss: 0.162\n",
      "[1,  4221] loss: 0.014\n",
      "[1,  4231] loss: 0.001\n",
      "[1,  4241] loss: 0.475\n",
      "[1,  4251] loss: 0.005\n",
      "[1,  4261] loss: 0.006\n",
      "[1,  4271] loss: 0.004\n",
      "[1,  4281] loss: 0.008\n",
      "[1,  4291] loss: 0.007\n",
      "[1,  4301] loss: 0.057\n",
      "[1,  4311] loss: 0.000\n",
      "[1,  4321] loss: 0.114\n",
      "[1,  4331] loss: 0.134\n",
      "[1,  4341] loss: 0.007\n",
      "[1,  4351] loss: 0.010\n",
      "[1,  4361] loss: 0.040\n",
      "[1,  4371] loss: 0.037\n",
      "[1,  4381] loss: 0.008\n",
      "[1,  4391] loss: 0.065\n",
      "[1,  4401] loss: 0.021\n",
      "[1,  4411] loss: 0.085\n",
      "[1,  4421] loss: 0.094\n",
      "[1,  4431] loss: 0.065\n",
      "[1,  4441] loss: 0.009\n",
      "[1,  4451] loss: 0.019\n",
      "[1,  4461] loss: 0.522\n",
      "[1,  4471] loss: 0.037\n",
      "[1,  4481] loss: 0.352\n",
      "[1,  4491] loss: 0.064\n",
      "[1,  4501] loss: 0.316\n",
      "[1,  4511] loss: 0.308\n",
      "[1,  4521] loss: 0.002\n",
      "[1,  4531] loss: 0.021\n",
      "[1,  4541] loss: 0.054\n",
      "[1,  4551] loss: 0.039\n",
      "[1,  4561] loss: 0.004\n",
      "[1,  4571] loss: 0.192\n",
      "[1,  4581] loss: 0.022\n",
      "[1,  4591] loss: 0.502\n",
      "[1,  4601] loss: 0.003\n",
      "[1,  4611] loss: 0.003\n",
      "[1,  4621] loss: 0.058\n",
      "[1,  4631] loss: 0.031\n",
      "[1,  4641] loss: 0.016\n",
      "[1,  4651] loss: 0.006\n",
      "[1,  4661] loss: 0.003\n",
      "[1,  4671] loss: 0.056\n",
      "[1,  4681] loss: 0.024\n",
      "[1,  4691] loss: 0.021\n",
      "[1,  4701] loss: 0.007\n",
      "[1,  4711] loss: 0.094\n",
      "[1,  4721] loss: 0.138\n",
      "[1,  4731] loss: 0.005\n",
      "[1,  4741] loss: 0.002\n",
      "[1,  4751] loss: 0.076\n",
      "[1,  4761] loss: 0.098\n",
      "[1,  4771] loss: 0.010\n",
      "[1,  4781] loss: 0.007\n",
      "[1,  4791] loss: 0.070\n",
      "[1,  4801] loss: 0.051\n",
      "[1,  4811] loss: 0.430\n",
      "[1,  4821] loss: 0.013\n",
      "[1,  4831] loss: 0.007\n",
      "[1,  4841] loss: 0.018\n",
      "[1,  4851] loss: 0.041\n",
      "[1,  4861] loss: 0.004\n",
      "[1,  4871] loss: 0.050\n",
      "[1,  4881] loss: 0.001\n",
      "[1,  4891] loss: 0.002\n",
      "[1,  4901] loss: 0.774\n",
      "[1,  4911] loss: 0.005\n",
      "[1,  4921] loss: 0.111\n",
      "[1,  4931] loss: 0.112\n",
      "[1,  4941] loss: 0.240\n",
      "[1,  4951] loss: 0.053\n",
      "[1,  4961] loss: 0.006\n",
      "[1,  4971] loss: 0.003\n",
      "[1,  4981] loss: 0.088\n",
      "[1,  4991] loss: 0.006\n",
      "[1,  5001] loss: 0.007\n",
      "[1,  5011] loss: 0.002\n",
      "[1,  5021] loss: 0.004\n",
      "[1,  5031] loss: 0.224\n",
      "[1,  5041] loss: 0.001\n",
      "[1,  5051] loss: 0.319\n",
      "[1,  5061] loss: 0.004\n",
      "[1,  5071] loss: 0.008\n",
      "[1,  5081] loss: 0.019\n",
      "[1,  5091] loss: 0.158\n",
      "[1,  5101] loss: 0.131\n",
      "[1,  5111] loss: 0.003\n",
      "[1,  5121] loss: 0.002\n",
      "[1,  5131] loss: 0.365\n",
      "[1,  5141] loss: 0.000\n",
      "[1,  5151] loss: 0.000\n",
      "[1,  5161] loss: 0.077\n",
      "[1,  5171] loss: 0.003\n",
      "[1,  5181] loss: 0.002\n",
      "[1,  5191] loss: 0.002\n",
      "[1,  5201] loss: 0.067\n",
      "[1,  5211] loss: 0.037\n",
      "[1,  5221] loss: 0.014\n",
      "[1,  5231] loss: 0.006\n",
      "[1,  5241] loss: 0.007\n",
      "[1,  5251] loss: 0.135\n",
      "[1,  5261] loss: 0.248\n",
      "[1,  5271] loss: 0.174\n",
      "[1,  5281] loss: 0.050\n",
      "[1,  5291] loss: 0.047\n",
      "[1,  5301] loss: 0.038\n",
      "[1,  5311] loss: 0.011\n",
      "[1,  5321] loss: 0.375\n",
      "[1,  5331] loss: 0.080\n",
      "[1,  5341] loss: 0.015\n",
      "[1,  5351] loss: 1.714\n",
      "[1,  5361] loss: 0.204\n",
      "[1,  5371] loss: 0.117\n",
      "[1,  5381] loss: 0.038\n",
      "[1,  5391] loss: 0.176\n",
      "[1,  5401] loss: 0.101\n",
      "[1,  5411] loss: 0.201\n",
      "[1,  5421] loss: 0.039\n",
      "[1,  5431] loss: 0.576\n",
      "[1,  5441] loss: 0.279\n",
      "[1,  5451] loss: 0.012\n",
      "[1,  5461] loss: 0.028\n",
      "[1,  5471] loss: 0.005\n",
      "[1,  5481] loss: 0.139\n",
      "[1,  5491] loss: 0.320\n",
      "[1,  5501] loss: 0.077\n",
      "[1,  5511] loss: 0.007\n",
      "[1,  5521] loss: 0.148\n",
      "[1,  5531] loss: 0.013\n",
      "[1,  5541] loss: 0.024\n",
      "[1,  5551] loss: 0.002\n",
      "[1,  5561] loss: 0.154\n",
      "[1,  5571] loss: 0.018\n",
      "[1,  5581] loss: 0.253\n",
      "[1,  5591] loss: 0.004\n",
      "[1,  5601] loss: 0.817\n",
      "[1,  5611] loss: 0.056\n",
      "[1,  5621] loss: 0.000\n",
      "[1,  5631] loss: 0.012\n",
      "[1,  5641] loss: 0.042\n",
      "[1,  5651] loss: 0.002\n",
      "[1,  5661] loss: 0.293\n",
      "[1,  5671] loss: 0.013\n",
      "[1,  5681] loss: 0.020\n",
      "[1,  5691] loss: 1.750\n",
      "[1,  5701] loss: 0.007\n",
      "[1,  5711] loss: 0.006\n",
      "[1,  5721] loss: 0.014\n",
      "[1,  5731] loss: 0.004\n",
      "[1,  5741] loss: 0.132\n",
      "[1,  5751] loss: 0.045\n",
      "[1,  5761] loss: 0.351\n",
      "[1,  5771] loss: 0.015\n",
      "[1,  5781] loss: 0.098\n",
      "[1,  5791] loss: 0.011\n",
      "[1,  5801] loss: 0.160\n",
      "[1,  5811] loss: 0.033\n",
      "[1,  5821] loss: 0.008\n",
      "[1,  5831] loss: 0.017\n",
      "[1,  5841] loss: 0.263\n",
      "[1,  5851] loss: 0.036\n",
      "[1,  5861] loss: 0.013\n",
      "[1,  5871] loss: 1.068\n",
      "[1,  5881] loss: 0.008\n",
      "[1,  5891] loss: 0.010\n",
      "[1,  5901] loss: 0.031\n",
      "[1,  5911] loss: 0.107\n",
      "[1,  5921] loss: 0.005\n",
      "[1,  5931] loss: 0.005\n",
      "[1,  5941] loss: 0.098\n",
      "[1,  5951] loss: 0.027\n",
      "[1,  5961] loss: 0.317\n",
      "[1,  5971] loss: 0.083\n",
      "[1,  5981] loss: 0.027\n",
      "[1,  5991] loss: 0.018\n",
      "[1,  6001] loss: 0.003\n",
      "[1,  6011] loss: 0.017\n",
      "[1,  6021] loss: 0.052\n",
      "[1,  6031] loss: 0.006\n",
      "[1,  6041] loss: 0.408\n",
      "[1,  6051] loss: 0.049\n",
      "[1,  6061] loss: 0.028\n",
      "[1,  6071] loss: 0.004\n",
      "[1,  6081] loss: 0.013\n",
      "[1,  6091] loss: 0.015\n",
      "[1,  6101] loss: 0.002\n",
      "[1,  6111] loss: 0.244\n",
      "[1,  6121] loss: 0.011\n",
      "[1,  6131] loss: 0.029\n",
      "[1,  6141] loss: 0.744\n",
      "[1,  6151] loss: 0.009\n",
      "[1,  6161] loss: 0.019\n",
      "[1,  6171] loss: 0.036\n",
      "[1,  6181] loss: 0.146\n",
      "[1,  6191] loss: 0.048\n",
      "[1,  6201] loss: 0.003\n",
      "[1,  6211] loss: 0.348\n",
      "[1,  6221] loss: 0.009\n",
      "[1,  6231] loss: 0.047\n",
      "[1,  6241] loss: 0.026\n",
      "[1,  6251] loss: 0.003\n",
      "[1,  6261] loss: 0.043\n",
      "[1,  6271] loss: 0.022\n",
      "[1,  6281] loss: 0.011\n",
      "[1,  6291] loss: 0.003\n",
      "[1,  6301] loss: 0.253\n",
      "[1,  6311] loss: 0.936\n",
      "[1,  6321] loss: 0.237\n",
      "[1,  6331] loss: 0.092\n",
      "[1,  6341] loss: 0.280\n",
      "[1,  6351] loss: 0.790\n",
      "[1,  6361] loss: 0.366\n",
      "[1,  6371] loss: 0.210\n",
      "[1,  6381] loss: 0.020\n",
      "[1,  6391] loss: 0.020\n",
      "[1,  6401] loss: 0.051\n",
      "[1,  6411] loss: 0.003\n",
      "[1,  6421] loss: 0.008\n",
      "[1,  6431] loss: 0.006\n",
      "[1,  6441] loss: 0.204\n",
      "[1,  6451] loss: 0.261\n",
      "[1,  6461] loss: 0.006\n",
      "[1,  6471] loss: 0.015\n",
      "[1,  6481] loss: 2.262\n",
      "[1,  6491] loss: 0.012\n",
      "[1,  6501] loss: 0.023\n",
      "[1,  6511] loss: 0.454\n",
      "[1,  6521] loss: 0.023\n",
      "[1,  6531] loss: 0.062\n",
      "[1,  6541] loss: 0.649\n",
      "[1,  6551] loss: 0.010\n",
      "[1,  6561] loss: 0.364\n",
      "[1,  6571] loss: 0.385\n",
      "[1,  6581] loss: 0.011\n",
      "[1,  6591] loss: 0.169\n",
      "[1,  6601] loss: 0.005\n",
      "[1,  6611] loss: 0.002\n",
      "[1,  6621] loss: 0.013\n",
      "[1,  6631] loss: 0.001\n",
      "[1,  6641] loss: 0.059\n",
      "[1,  6651] loss: 0.035\n",
      "[1,  6661] loss: 0.099\n",
      "[1,  6671] loss: 0.062\n",
      "[1,  6681] loss: 0.271\n",
      "[1,  6691] loss: 0.064\n",
      "[1,  6701] loss: 0.076\n",
      "[1,  6711] loss: 0.000\n",
      "[1,  6721] loss: 0.004\n",
      "[1,  6731] loss: 0.089\n",
      "[1,  6741] loss: 0.773\n",
      "[1,  6751] loss: 0.024\n",
      "[1,  6761] loss: 0.044\n",
      "[1,  6771] loss: 0.009\n",
      "[1,  6781] loss: 0.703\n",
      "[1,  6791] loss: 0.028\n",
      "[1,  6801] loss: 0.015\n",
      "[1,  6811] loss: 0.000\n",
      "[1,  6821] loss: 0.023\n",
      "[1,  6831] loss: 0.025\n",
      "[1,  6841] loss: 0.158\n",
      "[1,  6851] loss: 0.075\n",
      "[1,  6861] loss: 0.047\n",
      "[1,  6871] loss: 0.052\n",
      "[1,  6881] loss: 0.019\n",
      "[1,  6891] loss: 0.088\n",
      "[1,  6901] loss: 0.032\n",
      "[1,  6911] loss: 0.002\n",
      "[1,  6921] loss: 0.107\n",
      "[1,  6931] loss: 0.079\n",
      "[1,  6941] loss: 0.714\n",
      "[1,  6951] loss: 0.055\n",
      "[1,  6961] loss: 0.503\n",
      "[1,  6971] loss: 0.020\n",
      "[1,  6981] loss: 0.002\n",
      "[1,  6991] loss: 0.004\n",
      "[1,  7001] loss: 0.003\n",
      "[1,  7011] loss: 0.004\n",
      "[1,  7021] loss: 0.010\n",
      "[1,  7031] loss: 0.385\n",
      "[1,  7041] loss: 0.003\n",
      "[1,  7051] loss: 0.042\n",
      "[1,  7061] loss: 0.420\n",
      "[1,  7071] loss: 0.102\n",
      "[1,  7081] loss: 0.003\n",
      "[1,  7091] loss: 0.029\n",
      "[1,  7101] loss: 0.043\n",
      "[1,  7111] loss: 0.411\n",
      "[1,  7121] loss: 0.116\n",
      "[1,  7131] loss: 0.038\n",
      "[1,  7141] loss: 0.031\n",
      "[1,  7151] loss: 0.002\n",
      "[1,  7161] loss: 0.029\n",
      "[1,  7171] loss: 0.825\n"
     ]
    },
    {
     "name": "stdout",
     "output_type": "stream",
     "text": [
      "[1,  7181] loss: 0.031\n",
      "[1,  7191] loss: 0.001\n",
      "[1,  7201] loss: 0.013\n",
      "[1,  7211] loss: 0.357\n",
      "[1,  7221] loss: 0.175\n",
      "[1,  7231] loss: 0.060\n",
      "[1,  7241] loss: 0.100\n",
      "[1,  7251] loss: 0.043\n",
      "[1,  7261] loss: 0.015\n",
      "[1,  7271] loss: 0.001\n",
      "[1,  7281] loss: 0.009\n",
      "[1,  7291] loss: 0.075\n",
      "[1,  7301] loss: 0.013\n",
      "[1,  7311] loss: 0.020\n",
      "[1,  7321] loss: 0.090\n",
      "[1,  7331] loss: 0.029\n",
      "[1,  7341] loss: 0.074\n",
      "[1,  7351] loss: 0.167\n",
      "[1,  7361] loss: 0.055\n",
      "[1,  7371] loss: 0.017\n",
      "[1,  7381] loss: 0.334\n",
      "[1,  7391] loss: 0.001\n",
      "[1,  7401] loss: 0.199\n",
      "[1,  7411] loss: 0.044\n",
      "[1,  7421] loss: 0.001\n",
      "[1,  7431] loss: 0.256\n",
      "[1,  7441] loss: 0.033\n",
      "[1,  7451] loss: 0.043\n",
      "[1,  7461] loss: 0.001\n",
      "[1,  7471] loss: 0.163\n",
      "[1,  7481] loss: 0.118\n",
      "[1,  7491] loss: 0.017\n"
     ]
    }
   ],
   "source": [
    "epochs = 1\n",
    "for epoch in range(epochs): \n",
    "\n",
    "    # enumerate can be used to output iteration index i, as well as the data \n",
    "    for i, (data, labels) in enumerate(train_loader, 0):\n",
    "        # --------------------------------------------------task 2 ------------------------------------------------------------\n",
    "        # Task 2: implement training iteration here\n",
    "        # clear the gradient\n",
    "        data = data.to(device)\n",
    "        labels = labels.to(device)\n",
    "        optimizer.zero_grad()\n",
    "\n",
    "        #feed the input and acquire the output from network\n",
    "        outputs = net(data)\n",
    "\n",
    "        #calculating the predicted and the expected loss\n",
    "        loss = loss_fun(outputs, labels)\n",
    "\n",
    "        #compute the gradient\n",
    "        loss.backward()\n",
    "\n",
    "        #update the parameters\n",
    "        optimizer.step()\n",
    "        # ---------------------------------------------------------------------------------------------------------------------\n",
    "\n",
    "        # print statistics\n",
    "        ce_loss = loss.item()\n",
    "        if i % 10 == 0:\n",
    "            print('[%d, %5d] loss: %.3f' %\n",
    "                 (epoch + 1, i + 1, ce_loss))\n"
   ]
  },
  {
   "cell_type": "markdown",
   "metadata": {},
   "source": [
    "### Testing\n",
    "\n",
    "We will now use our trained network to make a prediction on our test set. \n"
   ]
  },
  {
   "cell_type": "code",
   "execution_count": 39,
   "metadata": {},
   "outputs": [],
   "source": [
    "#make an iterator from test_loader\n",
    "test_iterator = iter(test_loader)\n",
    "#Get a batch of testing images\n",
    "images, labels = test_iterator.next()\n",
    "images = images.to(device)\n",
    "labels = labels.to(device)"
   ]
  },
  {
   "cell_type": "code",
   "execution_count": 40,
   "metadata": {},
   "outputs": [
    {
     "name": "stdout",
     "output_type": "stream",
     "text": [
      "Predicted:      8     2     6     6     2     6     6     3\n"
     ]
    },
    {
     "data": {
      "image/png": "[encoded data removed]",
      "text/plain": [
       "<Figure size 432x288 with 8 Axes>"
      ]
     },
     "metadata": {
      "needs_background": "light"
     },
     "output_type": "display_data"
    }
   ],
   "source": [
    "y_score = net(images)\n",
    "# get predicted class from the class probabilities\n",
    "_, y_pred = torch.max(y_score, 1)\n",
    "\n",
    "print('Predicted: ', ' '.join('%5s' % classes[y_pred[j]] for j in range(8)))\n",
    "\n",
    "# plot y_score - true label (t) vs predicted label (p)\n",
    "fig2 = plt.figure()\n",
    "for i in range(8):\n",
    "    fig2.add_subplot(rows, columns, i+1)\n",
    "    plt.title('t: ' + classes[labels[i].cpu()] + ' p: ' + classes[y_pred[i].cpu()])\n",
    "    img = images[i] / 2 + 0.5     # this is to unnormalize the image\n",
    "    img = torchvision.transforms.ToPILImage()(img.cpu())\n",
    "    plt.axis('off')\n",
    "    plt.imshow(img)\n",
    "plt.show()\n"
   ]
  },
  {
   "cell_type": "markdown",
   "metadata": {},
   "source": [
    "### Computing classification scores\n",
    "\n",
    "We will now use the predictions to compute the accuracy, f1 score, precision and recall. These are scores commonly used to evaluate classification, in particular the f1 score is a good measure for datasets with imbalanced classes."
   ]
  },
  {
   "cell_type": "code",
   "execution_count": 41,
   "metadata": {},
   "outputs": [],
   "source": [
    "# first convert tensors to numpy\n",
    "y_true = labels.data.cpu().numpy()\n",
    "y_pred = y_pred.data.cpu().numpy()"
   ]
  },
  {
   "cell_type": "markdown",
   "metadata": {},
   "source": [
    "You can use sklearn classification metrics to calculate the scores - you will need to input the true labels, and predicted classes.\n",
    "\n",
    "See https://scikit-learn.org/stable/modules/model_evaluation.html#classification-metrics for more details."
   ]
  },
  {
   "cell_type": "code",
   "execution_count": 42,
   "metadata": {},
   "outputs": [
    {
     "name": "stdout",
     "output_type": "stream",
     "text": [
      "accuracy: 1.0 , f1 score: 1.0 , precision: 1.0 , recall: 1.0\n"
     ]
    }
   ],
   "source": [
    "from sklearn.metrics import accuracy_score, f1_score, recall_score, precision_score\n",
    "\n",
    "accuracy = accuracy_score(y_true, y_pred)\n",
    "f1 = f1_score(y_true, y_pred, average='macro')\n",
    "precision = precision_score(y_true, y_pred, average='macro')\n",
    "recall = recall_score(y_true, y_pred, average='macro')\n",
    "print('accuracy:', accuracy, ', f1 score:', f1, ', precision:', precision, ', recall:', recall)"
   ]
  },
  {
   "cell_type": "markdown",
   "metadata": {
    "hideCode": true,
    "hideOutput": false
   },
   "source": [
    "## References\n",
    "\n",
    "This tutorial was inspired by https://www.guru99.com/pytorch-tutorial.html\n",
    "\n",
    "Written by Cher Bass (cher.bass[at].kcl.ac.uk) and Abdulah Fawaz (abdulah.fawaz[at]kcl.ac.uk)\n"
   ]
  },
  {
   "cell_type": "code",
   "execution_count": null,
   "metadata": {},
   "outputs": [],
   "source": []
  }
 ],
 "metadata": {
  "kernelspec": {
   "display_name": "Python 3",
   "language": "python",
   "name": "python3"
  },
  "language_info": {
   "codemirror_mode": {
    "name": "ipython",
    "version": 3
   },
   "file_extension": ".py",
   "mimetype": "text/x-python",
   "name": "python",
   "nbconvert_exporter": "python",
   "pygments_lexer": "ipython3",
   "version": "3.6.8"
  }
 },
 "nbformat": 4,
 "nbformat_minor": 2
}
